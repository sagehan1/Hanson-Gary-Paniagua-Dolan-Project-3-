{
 "cells": [
  {
   "cell_type": "code",
   "execution_count": 1,
   "metadata": {},
   "outputs": [],
   "source": [
    "# Import dependencies\n",
    "import pandas as pd\n",
    "import numpy as np\n",
    "import geopandas as gp\n",
    "from datetime import datetime\n",
    "# Set the column width\n",
    "pd.set_option('max_colwidth', 400)"
   ]
  },
  {
   "attachments": {},
   "cell_type": "markdown",
   "metadata": {},
   "source": [
    "### Extract the crowdfunding.xlsx Data"
   ]
  },
  {
   "cell_type": "code",
   "execution_count": 2,
   "metadata": {},
   "outputs": [
    {
     "data": {
      "text/html": [
       "<div>\n",
       "<style scoped>\n",
       "    .dataframe tbody tr th:only-of-type {\n",
       "        vertical-align: middle;\n",
       "    }\n",
       "\n",
       "    .dataframe tbody tr th {\n",
       "        vertical-align: top;\n",
       "    }\n",
       "\n",
       "    .dataframe thead th {\n",
       "        text-align: right;\n",
       "    }\n",
       "</style>\n",
       "<table border=\"1\" class=\"dataframe\">\n",
       "  <thead>\n",
       "    <tr style=\"text-align: right;\">\n",
       "      <th></th>\n",
       "      <th>country</th>\n",
       "      <th>Purchasing Power Value</th>\n",
       "      <th>Purchasing Power Category</th>\n",
       "      <th>Safety Value</th>\n",
       "      <th>Safety Category</th>\n",
       "      <th>Health Care Value</th>\n",
       "      <th>Health Care Category</th>\n",
       "      <th>Climate Value</th>\n",
       "      <th>Climate Category</th>\n",
       "      <th>Cost of Living Value</th>\n",
       "      <th>Cost of Living Category</th>\n",
       "      <th>Property Price to Income Value</th>\n",
       "      <th>Property Price to Income Category</th>\n",
       "      <th>Traffic Commute Time Value</th>\n",
       "      <th>Traffic Commute Time Category</th>\n",
       "      <th>Pollution Value</th>\n",
       "      <th>Pollution Category</th>\n",
       "      <th>Quality of Life Value</th>\n",
       "      <th>Quality of Life Category</th>\n",
       "    </tr>\n",
       "  </thead>\n",
       "  <tbody>\n",
       "    <tr>\n",
       "      <th>0</th>\n",
       "      <td>Afghanistan</td>\n",
       "      <td>32.15</td>\n",
       "      <td>'Very Low'</td>\n",
       "      <td>25.33</td>\n",
       "      <td>'Low'</td>\n",
       "      <td>24.24</td>\n",
       "      <td>'Low'</td>\n",
       "      <td>0.00</td>\n",
       "      <td>NaN</td>\n",
       "      <td>21.08</td>\n",
       "      <td>'Very Low'</td>\n",
       "      <td>7.8</td>\n",
       "      <td>'Low'</td>\n",
       "      <td>56.17</td>\n",
       "      <td>'Very High'</td>\n",
       "      <td>84.44</td>\n",
       "      <td>'Very High'</td>\n",
       "      <td>0.0</td>\n",
       "      <td>NaN</td>\n",
       "    </tr>\n",
       "    <tr>\n",
       "      <th>1</th>\n",
       "      <td>Aland Islands</td>\n",
       "      <td>125.01</td>\n",
       "      <td>'Very High'</td>\n",
       "      <td>71.81</td>\n",
       "      <td>'High'</td>\n",
       "      <td>79.72</td>\n",
       "      <td>'High'</td>\n",
       "      <td>0.00</td>\n",
       "      <td>NaN</td>\n",
       "      <td>53.44</td>\n",
       "      <td>'Low'</td>\n",
       "      <td>5.33</td>\n",
       "      <td>'Low'</td>\n",
       "      <td>19.05</td>\n",
       "      <td>'Very Low'</td>\n",
       "      <td>18.05</td>\n",
       "      <td>'Very Low'</td>\n",
       "      <td>0.0</td>\n",
       "      <td>NaN</td>\n",
       "    </tr>\n",
       "    <tr>\n",
       "      <th>2</th>\n",
       "      <td>Albania</td>\n",
       "      <td>42.82</td>\n",
       "      <td>'Low'</td>\n",
       "      <td>55.52</td>\n",
       "      <td>'Moderate'</td>\n",
       "      <td>48.21</td>\n",
       "      <td>'Moderate'</td>\n",
       "      <td>86.43</td>\n",
       "      <td>'Very High'</td>\n",
       "      <td>40.85</td>\n",
       "      <td>'Low'</td>\n",
       "      <td>14.88</td>\n",
       "      <td>'High'</td>\n",
       "      <td>36.74</td>\n",
       "      <td>'Moderate'</td>\n",
       "      <td>77.25</td>\n",
       "      <td>'High'</td>\n",
       "      <td>': 104.16'</td>\n",
       "      <td>'Low'</td>\n",
       "    </tr>\n",
       "    <tr>\n",
       "      <th>3</th>\n",
       "      <td>Alderney</td>\n",
       "      <td>0.00</td>\n",
       "      <td>NaN</td>\n",
       "      <td>83.79</td>\n",
       "      <td>'Very High'</td>\n",
       "      <td>100.00</td>\n",
       "      <td>'Very High'</td>\n",
       "      <td>0.00</td>\n",
       "      <td>NaN</td>\n",
       "      <td>0.00</td>\n",
       "      <td>NaN</td>\n",
       "      <td>0.0</td>\n",
       "      <td>NaN</td>\n",
       "      <td>5.00</td>\n",
       "      <td>'Very Low'</td>\n",
       "      <td>1.72</td>\n",
       "      <td>'Very Low'</td>\n",
       "      <td>0.0</td>\n",
       "      <td>NaN</td>\n",
       "    </tr>\n",
       "    <tr>\n",
       "      <th>4</th>\n",
       "      <td>Algeria</td>\n",
       "      <td>27.60</td>\n",
       "      <td>'Very Low'</td>\n",
       "      <td>47.54</td>\n",
       "      <td>'Moderate'</td>\n",
       "      <td>54.43</td>\n",
       "      <td>'Moderate'</td>\n",
       "      <td>94.82</td>\n",
       "      <td>'Very High'</td>\n",
       "      <td>25.31</td>\n",
       "      <td>'Very Low'</td>\n",
       "      <td>21.7</td>\n",
       "      <td>'Very High'</td>\n",
       "      <td>45.09</td>\n",
       "      <td>'High'</td>\n",
       "      <td>63.87</td>\n",
       "      <td>'High'</td>\n",
       "      <td>': 98.83'</td>\n",
       "      <td>'Very Low'</td>\n",
       "    </tr>\n",
       "  </tbody>\n",
       "</table>\n",
       "</div>"
      ],
      "text/plain": [
       "         country  Purchasing Power Value Purchasing Power Category  \\\n",
       "0    Afghanistan                   32.15                'Very Low'   \n",
       "1  Aland Islands                  125.01               'Very High'   \n",
       "2        Albania                   42.82                     'Low'   \n",
       "3       Alderney                    0.00                       NaN   \n",
       "4        Algeria                   27.60                'Very Low'   \n",
       "\n",
       "   Safety Value Safety Category  Health Care Value Health Care Category  \\\n",
       "0         25.33           'Low'              24.24                'Low'   \n",
       "1         71.81          'High'              79.72               'High'   \n",
       "2         55.52      'Moderate'              48.21           'Moderate'   \n",
       "3         83.79     'Very High'             100.00          'Very High'   \n",
       "4         47.54      'Moderate'              54.43           'Moderate'   \n",
       "\n",
       "   Climate Value Climate Category  Cost of Living Value  \\\n",
       "0           0.00              NaN                 21.08   \n",
       "1           0.00              NaN                 53.44   \n",
       "2          86.43      'Very High'                 40.85   \n",
       "3           0.00              NaN                  0.00   \n",
       "4          94.82      'Very High'                 25.31   \n",
       "\n",
       "  Cost of Living Category Property Price to Income Value  \\\n",
       "0              'Very Low'                            7.8   \n",
       "1                   'Low'                           5.33   \n",
       "2                   'Low'                          14.88   \n",
       "3                     NaN                            0.0   \n",
       "4              'Very Low'                           21.7   \n",
       "\n",
       "  Property Price to Income Category  Traffic Commute Time Value  \\\n",
       "0                             'Low'                       56.17   \n",
       "1                             'Low'                       19.05   \n",
       "2                            'High'                       36.74   \n",
       "3                               NaN                        5.00   \n",
       "4                       'Very High'                       45.09   \n",
       "\n",
       "  Traffic Commute Time Category  Pollution Value Pollution Category  \\\n",
       "0                   'Very High'            84.44        'Very High'   \n",
       "1                    'Very Low'            18.05         'Very Low'   \n",
       "2                    'Moderate'            77.25             'High'   \n",
       "3                    'Very Low'             1.72         'Very Low'   \n",
       "4                        'High'            63.87             'High'   \n",
       "\n",
       "  Quality of Life Value Quality of Life Category  \n",
       "0                   0.0                      NaN  \n",
       "1                   0.0                      NaN  \n",
       "2            ': 104.16'                    'Low'  \n",
       "3                   0.0                      NaN  \n",
       "4             ': 98.83'               'Very Low'  "
      ]
     },
     "execution_count": 2,
     "metadata": {},
     "output_type": "execute_result"
    }
   ],
   "source": [
    "# Read the data into a Pandas DataFrame\n",
    "world_happiness_report_df = pd.read_csv('Resources/Quality_of_Life.csv')\n",
    "world_happiness_report_df.head()"
   ]
  },
  {
   "cell_type": "code",
   "execution_count": 3,
   "metadata": {},
   "outputs": [
    {
     "data": {
      "text/html": [
       "<div>\n",
       "<style scoped>\n",
       "    .dataframe tbody tr th:only-of-type {\n",
       "        vertical-align: middle;\n",
       "    }\n",
       "\n",
       "    .dataframe tbody tr th {\n",
       "        vertical-align: top;\n",
       "    }\n",
       "\n",
       "    .dataframe thead th {\n",
       "        text-align: right;\n",
       "    }\n",
       "</style>\n",
       "<table border=\"1\" class=\"dataframe\">\n",
       "  <thead>\n",
       "    <tr style=\"text-align: right;\">\n",
       "      <th></th>\n",
       "      <th>Country name</th>\n",
       "      <th>Regional indicator</th>\n",
       "      <th>Ladder score</th>\n",
       "      <th>Standard error of ladder score</th>\n",
       "      <th>upperwhisker</th>\n",
       "      <th>lowerwhisker</th>\n",
       "      <th>Logged GDP per capita</th>\n",
       "      <th>Social support</th>\n",
       "      <th>Healthy life expectancy</th>\n",
       "      <th>Freedom to make life choices</th>\n",
       "      <th>Generosity</th>\n",
       "      <th>Perceptions of corruption</th>\n",
       "      <th>Ladder score in Dystopia</th>\n",
       "      <th>Explained by: Log GDP per capita</th>\n",
       "      <th>Explained by: Social support</th>\n",
       "      <th>Explained by: Healthy life expectancy</th>\n",
       "      <th>Explained by: Freedom to make life choices</th>\n",
       "      <th>Explained by: Generosity</th>\n",
       "      <th>Explained by: Perceptions of corruption</th>\n",
       "      <th>Dystopia + residual</th>\n",
       "    </tr>\n",
       "  </thead>\n",
       "  <tbody>\n",
       "    <tr>\n",
       "      <th>0</th>\n",
       "      <td>Finland</td>\n",
       "      <td>Western Europe</td>\n",
       "      <td>7.842</td>\n",
       "      <td>0.032</td>\n",
       "      <td>7.904</td>\n",
       "      <td>7.780</td>\n",
       "      <td>10.775</td>\n",
       "      <td>0.954</td>\n",
       "      <td>72.0</td>\n",
       "      <td>0.949</td>\n",
       "      <td>-0.098</td>\n",
       "      <td>0.186</td>\n",
       "      <td>2.43</td>\n",
       "      <td>1.446</td>\n",
       "      <td>1.106</td>\n",
       "      <td>0.741</td>\n",
       "      <td>0.691</td>\n",
       "      <td>0.124</td>\n",
       "      <td>0.481</td>\n",
       "      <td>3.253</td>\n",
       "    </tr>\n",
       "    <tr>\n",
       "      <th>1</th>\n",
       "      <td>Denmark</td>\n",
       "      <td>Western Europe</td>\n",
       "      <td>7.620</td>\n",
       "      <td>0.035</td>\n",
       "      <td>7.687</td>\n",
       "      <td>7.552</td>\n",
       "      <td>10.933</td>\n",
       "      <td>0.954</td>\n",
       "      <td>72.7</td>\n",
       "      <td>0.946</td>\n",
       "      <td>0.030</td>\n",
       "      <td>0.179</td>\n",
       "      <td>2.43</td>\n",
       "      <td>1.502</td>\n",
       "      <td>1.108</td>\n",
       "      <td>0.763</td>\n",
       "      <td>0.686</td>\n",
       "      <td>0.208</td>\n",
       "      <td>0.485</td>\n",
       "      <td>2.868</td>\n",
       "    </tr>\n",
       "    <tr>\n",
       "      <th>2</th>\n",
       "      <td>Switzerland</td>\n",
       "      <td>Western Europe</td>\n",
       "      <td>7.571</td>\n",
       "      <td>0.036</td>\n",
       "      <td>7.643</td>\n",
       "      <td>7.500</td>\n",
       "      <td>11.117</td>\n",
       "      <td>0.942</td>\n",
       "      <td>74.4</td>\n",
       "      <td>0.919</td>\n",
       "      <td>0.025</td>\n",
       "      <td>0.292</td>\n",
       "      <td>2.43</td>\n",
       "      <td>1.566</td>\n",
       "      <td>1.079</td>\n",
       "      <td>0.816</td>\n",
       "      <td>0.653</td>\n",
       "      <td>0.204</td>\n",
       "      <td>0.413</td>\n",
       "      <td>2.839</td>\n",
       "    </tr>\n",
       "    <tr>\n",
       "      <th>3</th>\n",
       "      <td>Iceland</td>\n",
       "      <td>Western Europe</td>\n",
       "      <td>7.554</td>\n",
       "      <td>0.059</td>\n",
       "      <td>7.670</td>\n",
       "      <td>7.438</td>\n",
       "      <td>10.878</td>\n",
       "      <td>0.983</td>\n",
       "      <td>73.0</td>\n",
       "      <td>0.955</td>\n",
       "      <td>0.160</td>\n",
       "      <td>0.673</td>\n",
       "      <td>2.43</td>\n",
       "      <td>1.482</td>\n",
       "      <td>1.172</td>\n",
       "      <td>0.772</td>\n",
       "      <td>0.698</td>\n",
       "      <td>0.293</td>\n",
       "      <td>0.170</td>\n",
       "      <td>2.967</td>\n",
       "    </tr>\n",
       "    <tr>\n",
       "      <th>4</th>\n",
       "      <td>Netherlands</td>\n",
       "      <td>Western Europe</td>\n",
       "      <td>7.464</td>\n",
       "      <td>0.027</td>\n",
       "      <td>7.518</td>\n",
       "      <td>7.410</td>\n",
       "      <td>10.932</td>\n",
       "      <td>0.942</td>\n",
       "      <td>72.4</td>\n",
       "      <td>0.913</td>\n",
       "      <td>0.175</td>\n",
       "      <td>0.338</td>\n",
       "      <td>2.43</td>\n",
       "      <td>1.501</td>\n",
       "      <td>1.079</td>\n",
       "      <td>0.753</td>\n",
       "      <td>0.647</td>\n",
       "      <td>0.302</td>\n",
       "      <td>0.384</td>\n",
       "      <td>2.798</td>\n",
       "    </tr>\n",
       "  </tbody>\n",
       "</table>\n",
       "</div>"
      ],
      "text/plain": [
       "  Country name Regional indicator  Ladder score  \\\n",
       "0      Finland     Western Europe         7.842   \n",
       "1      Denmark     Western Europe         7.620   \n",
       "2  Switzerland     Western Europe         7.571   \n",
       "3      Iceland     Western Europe         7.554   \n",
       "4  Netherlands     Western Europe         7.464   \n",
       "\n",
       "   Standard error of ladder score  upperwhisker  lowerwhisker  \\\n",
       "0                           0.032         7.904         7.780   \n",
       "1                           0.035         7.687         7.552   \n",
       "2                           0.036         7.643         7.500   \n",
       "3                           0.059         7.670         7.438   \n",
       "4                           0.027         7.518         7.410   \n",
       "\n",
       "   Logged GDP per capita  Social support  Healthy life expectancy  \\\n",
       "0                 10.775           0.954                     72.0   \n",
       "1                 10.933           0.954                     72.7   \n",
       "2                 11.117           0.942                     74.4   \n",
       "3                 10.878           0.983                     73.0   \n",
       "4                 10.932           0.942                     72.4   \n",
       "\n",
       "   Freedom to make life choices  Generosity  Perceptions of corruption  \\\n",
       "0                         0.949      -0.098                      0.186   \n",
       "1                         0.946       0.030                      0.179   \n",
       "2                         0.919       0.025                      0.292   \n",
       "3                         0.955       0.160                      0.673   \n",
       "4                         0.913       0.175                      0.338   \n",
       "\n",
       "   Ladder score in Dystopia  Explained by: Log GDP per capita  \\\n",
       "0                      2.43                             1.446   \n",
       "1                      2.43                             1.502   \n",
       "2                      2.43                             1.566   \n",
       "3                      2.43                             1.482   \n",
       "4                      2.43                             1.501   \n",
       "\n",
       "   Explained by: Social support  Explained by: Healthy life expectancy  \\\n",
       "0                         1.106                                  0.741   \n",
       "1                         1.108                                  0.763   \n",
       "2                         1.079                                  0.816   \n",
       "3                         1.172                                  0.772   \n",
       "4                         1.079                                  0.753   \n",
       "\n",
       "   Explained by: Freedom to make life choices  Explained by: Generosity  \\\n",
       "0                                       0.691                     0.124   \n",
       "1                                       0.686                     0.208   \n",
       "2                                       0.653                     0.204   \n",
       "3                                       0.698                     0.293   \n",
       "4                                       0.647                     0.302   \n",
       "\n",
       "   Explained by: Perceptions of corruption  Dystopia + residual  \n",
       "0                                    0.481                3.253  \n",
       "1                                    0.485                2.868  \n",
       "2                                    0.413                2.839  \n",
       "3                                    0.170                2.967  \n",
       "4                                    0.384                2.798  "
      ]
     },
     "execution_count": 3,
     "metadata": {},
     "output_type": "execute_result"
    }
   ],
   "source": [
    "quality_of_life_df = pd.read_csv('Resources/world-happiness-report-2021.csv')\n",
    "quality_of_life_df.head()"
   ]
  },
  {
   "cell_type": "code",
   "execution_count": 7,
   "metadata": {},
   "outputs": [],
   "source": [
    "#Merging the data on the country name\n",
    "merged_df = pd.merge(world_happiness_report_df, quality_of_life_df, left_on='country', right_on='Country name', how='inner')"
   ]
  },
  {
   "cell_type": "code",
   "execution_count": null,
   "metadata": {},
   "outputs": [],
   "source": [
    "#Health care to life epectancy ratio\n",
    "merged_df['Health Care to Life Expectancy Ratio'] = merged_df['Health Care Value'] / merged_df['Healthy life expectancy']\n",
    "#Print\n",
    "merged_df[['country', 'Health Care to Life Expectancy Ratio']].head(30)"
   ]
  },
  {
   "cell_type": "code",
   "execution_count": null,
   "metadata": {},
   "outputs": [],
   "source": [
    "copy_quality_of_life_df = quality_of_life_df.copy()\n",
    "copy_quality_of_life_df .head()"
   ]
  },
  {
   "cell_type": "code",
   "execution_count": null,
   "metadata": {},
   "outputs": [],
   "source": [
    "first_merged_df = pd.merge(campaign_df,category_df, on='category')\n",
    "campaign_merged_df = pd.merge(first_merged_df,subcategory_df,on=\"subcategory\")\n",
    "campaign_merged_df.tail(10)"
   ]
  },
  {
   "cell_type": "code",
   "execution_count": null,
   "metadata": {},
   "outputs": [],
   "source": [
    "# Get a brief summary of the crowdfunding_info DataFrame.\n",
    "quality_of_life_df.info()"
   ]
  },
  {
   "attachments": {},
   "cell_type": "markdown",
   "metadata": {},
   "source": [
    "### Campaign DataFrame\n",
    "----\n",
    "**Create a Campaign DataFrame that has the following columns:**\n",
    "* The \"cf_id\" column\n",
    "* The \"contact_id\" column\n",
    "* The \"company_name\" column\n",
    "* The \"blurb\" column, renamed to \"description\"\n",
    "* The \"goal\" column, converted to the `float` data type\n",
    "* The \"pledged\" column, converted to the `float` data type\n",
    "* The \"outcome\" column\n",
    "* The \"backers_count\" column\n",
    "* The \"country\" column\n",
    "* The \"currency\" column\n",
    "* The \"launched_at\" column, renamed to \"launch_date\" and with the UTC times converted to the `datetime` format\n",
    "* The \"deadline\" column, renamed to \"end_date\" and with the UTC times converted to the `datetime` format\n",
    "* The \"category_id\" column, with unique identification numbers matching those in the \"category_id\" column of the category DataFrame\n",
    "* The \"subcategory_id\" column, with the unique identification numbers matching those in the \"subcategory_id\" column of the subcategory DataFrame\n",
    " \n",
    "\n",
    "Then export the DataFrame as a `campaign.csv` CSV file.\n"
   ]
  },
  {
   "cell_type": "code",
   "execution_count": null,
   "metadata": {},
   "outputs": [],
   "source": [
    "# Create a copy of the crowdfunding_info_df DataFrame name campaign_df.\n",
    "campaign_df = crowdfunding_info_df.copy()\n",
    "campaign_df.head()"
   ]
  },
  {
   "cell_type": "code",
   "execution_count": null,
   "metadata": {},
   "outputs": [],
   "source": [
    "# Rename the blurb, launched_at, and deadline columns.\n",
    "campaign_df.rename(columns={'blurb':'description','launched_at':'launch_date','deadline':'end_date'}, inplace=True)\n",
    "campaign_df.head()"
   ]
  },
  {
   "cell_type": "code",
   "execution_count": null,
   "metadata": {},
   "outputs": [],
   "source": [
    "# Convert the goal and pledged columns to a `float` data type.\n",
    "campaign_df[\"goal\"] =campaign_df[\"goal\"].astype('float')\n",
    "campaign_df[\"pledged\"] =campaign_df[\"pledged\"].astype('float')\n",
    "campaign_df.head()"
   ]
  },
  {
   "cell_type": "code",
   "execution_count": null,
   "metadata": {},
   "outputs": [],
   "source": [
    "# Check the datatypes\n",
    "campaign_df.info()"
   ]
  },
  {
   "cell_type": "code",
   "execution_count": null,
   "metadata": {},
   "outputs": [],
   "source": [
    "# Format the launch_date and end_date columns to datetime format\n",
    "campaign_df[\"launch_date\"] = pd.to_datetime(campaign_df[\"launch_date\"], unit='s')\n",
    "campaign_df[\"end_date\"] = pd.to_datetime(campaign_df[\"end_date\"], unit='s')\n",
    "campaign_df.head()"
   ]
  },
  {
   "cell_type": "code",
   "execution_count": null,
   "metadata": {
    "scrolled": false
   },
   "outputs": [],
   "source": [
    "# Merge the campaign_df with the category_df on the \"category\" column and\n",
    "# the subcategory_df on the \"subcategory\" column.\n",
    "first_merged_df = pd.merge(campaign_df,category_df, on='category')\n",
    "campaign_merged_df = pd.merge(first_merged_df,subcategory_df,on=\"subcategory\")\n",
    "campaign_merged_df.tail(10)"
   ]
  },
  {
   "cell_type": "code",
   "execution_count": null,
   "metadata": {},
   "outputs": [],
   "source": [
    "# Drop unwanted columns, including 'staff_pick' and 'spotlight'\n",
    "campaign_cleaned = campaign_merged_df.drop(['staff_pick','spotlight','category & sub-category','category', 'subcategory'], axis=1)\n",
    "campaign_cleaned.head(5)"
   ]
  },
  {
   "cell_type": "code",
   "execution_count": 21,
   "metadata": {},
   "outputs": [],
   "source": [
    "# Export the DataFrame as a CSV file.\n",
    "campaign_cleaned.to_csv(\"Resources/campaign.csv\", index=False)"
   ]
  },
  {
   "attachments": {},
   "cell_type": "markdown",
   "metadata": {},
   "source": [
    "### Extract the contacts.xlsx Data."
   ]
  },
  {
   "cell_type": "code",
   "execution_count": null,
   "metadata": {},
   "outputs": [],
   "source": [
    "# Read the data into a Pandas DataFrame. Use the `header=3` parameter when reading in the data.\n",
    "contact_info_df = pd.read_excel('Resources/contacts.xlsx', header=3)\n",
    "contact_info_df.head()"
   ]
  },
  {
   "attachments": {},
   "cell_type": "markdown",
   "metadata": {},
   "source": [
    "### Create the Contacts DataFrame \n",
    "---\n",
    "**Create a Contacts DataFrame that has the following columns:**\n",
    "- A column named \"contact_id\"  that contains the unique number of the contact person.\n",
    "- A column named \"first_name\" that contains the first name of the contact person.\n",
    "- A column named \"last_name\" that contains the first name of the contact person.\n",
    "- A column named \"email\" that contains the email address of the contact person\n",
    "\n",
    "Then export the DataFrame as a `contacts.csv` CSV file."
   ]
  },
  {
   "attachments": {},
   "cell_type": "markdown",
   "metadata": {},
   "source": [
    "### Option 1: Use Pandas to create the contacts DataFrame."
   ]
  },
  {
   "cell_type": "code",
   "execution_count": null,
   "metadata": {},
   "outputs": [],
   "source": [
    "import json\n",
    "dict_values = []\n",
    "\n",
    "# Iterate through the contact_info_df and convert each row to a dictionary.\n",
    "for i, row in contact_info_df.iterrows():\n",
    "    data = row['contact_info']  \n",
    "\n",
    "    # Append the converted row to a list.\n",
    "    dict_values.append(json.loads(data))\n",
    "\n",
    "# Print out the list of dictionaries\n",
    "print(dict_values)"
   ]
  },
  {
   "cell_type": "code",
   "execution_count": null,
   "metadata": {},
   "outputs": [],
   "source": [
    "# Create a contacts_df DataFrame from the list of dictionaries\n",
    "contacts_df = pd.DataFrame(dict_values)\n",
    "contacts_df.head(5) "
   ]
  },
  {
   "cell_type": "code",
   "execution_count": null,
   "metadata": {},
   "outputs": [],
   "source": [
    "# Check the datatypes.\n",
    "contacts_df.info()"
   ]
  },
  {
   "cell_type": "code",
   "execution_count": null,
   "metadata": {},
   "outputs": [],
   "source": [
    "# Create a \"first\"name\" and \"last_name\" column with the first and last names from the \"name\" column.\n",
    "contacts_df[\"first_name\"] = [x[\"name\"].split(\" \")[0] for i,x in contacts_df.iterrows()]\n",
    "contacts_df[\"last_name\"] = [x[\"name\"].split(\" \")[1] for i,x in contacts_df.iterrows()]\n",
    "\n",
    "# Drop the contact_name column\n",
    "contacts_df = contacts_df.drop('name',axis=1)\n",
    "contacts_df.head(10)"
   ]
  },
  {
   "cell_type": "code",
   "execution_count": null,
   "metadata": {},
   "outputs": [],
   "source": [
    "# Reorder the columns\n",
    "contacts_df_clean = contacts_df[['contact_id','first_name','last_name','email']]\n",
    "\n",
    "contacts_df_clean.head(10) # the starter code had print function but the print function gives as same result in different format\n"
   ]
  },
  {
   "cell_type": "code",
   "execution_count": null,
   "metadata": {},
   "outputs": [],
   "source": [
    "# Check the datatypes one more time before exporting as CSV file.\n",
    "contacts_df_clean.info()"
   ]
  },
  {
   "cell_type": "code",
   "execution_count": 29,
   "metadata": {},
   "outputs": [],
   "source": [
    "# Export the DataFrame as a CSV file.\n",
    "contacts_df_clean.to_csv(\"Resources/contacts.csv\", encoding='utf8', index=False)"
   ]
  },
  {
   "attachments": {},
   "cell_type": "markdown",
   "metadata": {},
   "source": [
    "### Option 2: Use regex to create the contacts DataFrame."
   ]
  },
  {
   "cell_type": "code",
   "execution_count": null,
   "metadata": {},
   "outputs": [],
   "source": [
    "contact_info_df_copy = contact_info_df.copy()\n",
    "contact_info_df_copy.head()"
   ]
  },
  {
   "cell_type": "code",
   "execution_count": null,
   "metadata": {},
   "outputs": [],
   "source": [
    "# Extract the four-digit contact ID number.\n",
    "import re\n",
    "contact_info_df_copy['contact_id'] = [re.search(r'\\s\\d{4}',x['contact_info']).group() for i,x in contact_info_df_copy.iterrows()]\n",
    "contact_info_df_copy.head(5)"
   ]
  },
  {
   "cell_type": "code",
   "execution_count": null,
   "metadata": {},
   "outputs": [],
   "source": [
    "# Check the datatypes.\n",
    "contact_info_df_copy.info()"
   ]
  },
  {
   "cell_type": "code",
   "execution_count": null,
   "metadata": {},
   "outputs": [],
   "source": [
    "# Convert the \"contact_id\" column to an int64 data type using `pd.to_numeric`.\n",
    "contact_info_df_copy['contact_id'] = pd.to_numeric(contact_info_df_copy['contact_id'])\n",
    "contact_info_df_copy.info()"
   ]
  },
  {
   "cell_type": "code",
   "execution_count": null,
   "metadata": {},
   "outputs": [],
   "source": [
    "# Extract the name of the contact and add it to a new column.\n",
    "p = \"([A-Za-z]+) ([A-Za-z]+)\"\n",
    "contact_info_df_copy['name'] = [re.search(p,x['contact_info']).group() for i,x in contact_info_df_copy.iterrows()]\n",
    "contact_info_df_copy.head(10)"
   ]
  },
  {
   "cell_type": "code",
   "execution_count": null,
   "metadata": {},
   "outputs": [],
   "source": [
    "# Extract the email from the contacts and add the values to a new column.\n",
    "contact_info_df_copy['email'] = contact_info_df_copy['contact_info'].str.extract(r'\"(\\S+@\\S+)\"}')\n",
    "contact_info_df_copy.head(10)\n"
   ]
  },
  {
   "cell_type": "code",
   "execution_count": null,
   "metadata": {},
   "outputs": [],
   "source": [
    "# Create a copy of the contact_info_df with the 'contact_id', 'name', 'email' columns.\n",
    "cleaned_contact_info_df = contact_info_df_copy.drop(\"contact_info\", axis=1)\n",
    "cleaned_contact_info_df.head(10)"
   ]
  },
  {
   "cell_type": "code",
   "execution_count": null,
   "metadata": {},
   "outputs": [],
   "source": [
    "# Create a \"first\"name\" and \"last_name\" column with the first and last names from the \"name\" column.\n",
    "cleaned_contact_info_df['first_name'] = cleaned_contact_info_df['name'].str.extract(r'^(\\w+)')\n",
    "cleaned_contact_info_df['last_name'] = cleaned_contact_info_df['name'].str.extract(r'\\s(\\w+)')\n",
    "\n",
    "# Drop the contact_name column\n",
    "final_cleaned_df = cleaned_contact_info_df.drop('name',axis=1)\n",
    "final_cleaned_df.head(10)"
   ]
  },
  {
   "cell_type": "code",
   "execution_count": null,
   "metadata": {},
   "outputs": [],
   "source": [
    "# Reorder the columns\n",
    "contacts_df_clean = final_cleaned_df[['contact_id','first_name','last_name','email']]\n",
    "contacts_df_clean.head(10)"
   ]
  },
  {
   "cell_type": "code",
   "execution_count": null,
   "metadata": {},
   "outputs": [],
   "source": [
    "# Check the datatypes one more time before exporting as CSV file.\n",
    "contacts_df_clean.info()"
   ]
  },
  {
   "cell_type": "code",
   "execution_count": 40,
   "metadata": {},
   "outputs": [],
   "source": [
    "# Export the DataFrame as a CSV file.\n",
    "contacts_df_clean.to_csv(\"Resources/contacts.csv\", encoding='utf8', index=False)"
   ]
  },
  {
   "cell_type": "code",
   "execution_count": null,
   "metadata": {},
   "outputs": [],
   "source": []
  }
 ],
 "metadata": {
  "kernelspec": {
   "display_name": "base",
   "language": "python",
   "name": "python3"
  },
  "language_info": {
   "codemirror_mode": {
    "name": "ipython",
    "version": 3
   },
   "file_extension": ".py",
   "mimetype": "text/x-python",
   "name": "python",
   "nbconvert_exporter": "python",
   "pygments_lexer": "ipython3",
   "version": "3.12.7"
  }
 },
 "nbformat": 4,
 "nbformat_minor": 4
}
